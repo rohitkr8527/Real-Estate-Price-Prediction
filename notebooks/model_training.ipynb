{
 "cells": [
  {
   "cell_type": "code",
   "execution_count": 22,
   "id": "b10af72f",
   "metadata": {},
   "outputs": [
    {
     "data": {
      "text/html": [
       "<div>\n",
       "<style scoped>\n",
       "    .dataframe tbody tr th:only-of-type {\n",
       "        vertical-align: middle;\n",
       "    }\n",
       "\n",
       "    .dataframe tbody tr th {\n",
       "        vertical-align: top;\n",
       "    }\n",
       "\n",
       "    .dataframe thead th {\n",
       "        text-align: right;\n",
       "    }\n",
       "</style>\n",
       "<table border=\"1\" class=\"dataframe\">\n",
       "  <thead>\n",
       "    <tr style=\"text-align: right;\">\n",
       "      <th></th>\n",
       "      <th>location</th>\n",
       "      <th>total_sqft</th>\n",
       "      <th>bath</th>\n",
       "      <th>bhk</th>\n",
       "      <th>price_per_sqft</th>\n",
       "      <th>price</th>\n",
       "    </tr>\n",
       "  </thead>\n",
       "  <tbody>\n",
       "    <tr>\n",
       "      <th>0</th>\n",
       "      <td>Electronic City Phase II</td>\n",
       "      <td>1056.0</td>\n",
       "      <td>2.0</td>\n",
       "      <td>2</td>\n",
       "      <td>3699.810606</td>\n",
       "      <td>39.07</td>\n",
       "    </tr>\n",
       "    <tr>\n",
       "      <th>1</th>\n",
       "      <td>Uttarahalli</td>\n",
       "      <td>1440.0</td>\n",
       "      <td>2.0</td>\n",
       "      <td>3</td>\n",
       "      <td>4305.555556</td>\n",
       "      <td>62.00</td>\n",
       "    </tr>\n",
       "    <tr>\n",
       "      <th>2</th>\n",
       "      <td>Lingadheeranahalli</td>\n",
       "      <td>1521.0</td>\n",
       "      <td>3.0</td>\n",
       "      <td>3</td>\n",
       "      <td>6245.890861</td>\n",
       "      <td>95.00</td>\n",
       "    </tr>\n",
       "    <tr>\n",
       "      <th>3</th>\n",
       "      <td>Kothanur</td>\n",
       "      <td>1200.0</td>\n",
       "      <td>2.0</td>\n",
       "      <td>2</td>\n",
       "      <td>4250.000000</td>\n",
       "      <td>51.00</td>\n",
       "    </tr>\n",
       "    <tr>\n",
       "      <th>4</th>\n",
       "      <td>Whitefield</td>\n",
       "      <td>1170.0</td>\n",
       "      <td>2.0</td>\n",
       "      <td>2</td>\n",
       "      <td>3247.863248</td>\n",
       "      <td>38.00</td>\n",
       "    </tr>\n",
       "  </tbody>\n",
       "</table>\n",
       "</div>"
      ],
      "text/plain": [
       "                   location  total_sqft  bath  bhk  price_per_sqft  price\n",
       "0  Electronic City Phase II      1056.0   2.0    2     3699.810606  39.07\n",
       "1               Uttarahalli      1440.0   2.0    3     4305.555556  62.00\n",
       "2        Lingadheeranahalli      1521.0   3.0    3     6245.890861  95.00\n",
       "3                  Kothanur      1200.0   2.0    2     4250.000000  51.00\n",
       "4                Whitefield      1170.0   2.0    2     3247.863248  38.00"
      ]
     },
     "execution_count": 22,
     "metadata": {},
     "output_type": "execute_result"
    }
   ],
   "source": [
    "import pandas as pd\n",
    "import numpy as np\n",
    "import matplotlib.pyplot as plt\n",
    "import seaborn as sns\n",
    "\n",
    "# Load cleaned data from the processed folder\n",
    "df = pd.read_csv('../data/processed/cleaned_bangalore_house_data.csv')\n",
    "df.head()"
   ]
  },
  {
   "cell_type": "markdown",
   "id": "8b8c8481",
   "metadata": {},
   "source": [
    "**Preparing Features and Target**"
   ]
  },
  {
   "cell_type": "code",
   "execution_count": 23,
   "id": "5ee580af",
   "metadata": {},
   "outputs": [
    {
     "name": "stdout",
     "output_type": "stream",
     "text": [
      "shape of X_train: (8304, 4)\n",
      "shape of X_test: (2076, 4)\n",
      "shape of y_train: (8304,)\n",
      "shape of y_test: (2076,)\n"
     ]
    }
   ],
   "source": [
    "from sklearn.model_selection import train_test_split\n",
    "\n",
    "# Features and target\n",
    "X = df[['location', 'total_sqft', 'bath', 'bhk']]\n",
    "y = df['price']\n",
    "\n",
    "X_train, X_test, y_train, y_test = train_test_split(X, y, test_size=0.2, random_state=42)\n",
    "\n",
    "print(\"shape of X_train:\", X_train.shape)\n",
    "print(\"shape of X_test:\", X_test.shape) \n",
    "print(\"shape of y_train:\", y_train.shape)\n",
    "print(\"shape of y_test:\", y_test.shape)"
   ]
  },
  {
   "cell_type": "markdown",
   "id": "029a7bb0",
   "metadata": {},
   "source": [
    "##### **Scaling and One Hot Encoding**"
   ]
  },
  {
   "cell_type": "code",
   "execution_count": 24,
   "id": "5a507225",
   "metadata": {},
   "outputs": [],
   "source": [
    "from sklearn.compose import ColumnTransformer\n",
    "from sklearn.preprocessing import OneHotEncoder, StandardScaler\n",
    "\n",
    "# Identify categorical and numeric columns\n",
    "categorical_cols = ['location']\n",
    "numeric_cols = [col for col in X.columns if col not in categorical_cols]\n",
    "\n",
    "# Preprocessor: one-hot encode location, scale numeric features\n",
    "preprocessor = ColumnTransformer(\n",
    "    transformers=[\n",
    "        ('num', StandardScaler(), numeric_cols),\n",
    "        ('cat', OneHotEncoder(handle_unknown='ignore'), categorical_cols)\n",
    "    ]\n",
    ")\n",
    "\n",
    "# Fit preprocessor on training data only, transform both train and test\n",
    "X_train = preprocessor.fit_transform(X_train)\n",
    "X_test = preprocessor.transform(X_test)\n"
   ]
  },
  {
   "cell_type": "markdown",
   "id": "f757f19c",
   "metadata": {},
   "source": [
    "### <span style=\"color:red\">Model Training</span> ###"
   ]
  },
  {
   "cell_type": "markdown",
   "id": "34f44316",
   "metadata": {},
   "source": [
    "**Importing Required Libraries**"
   ]
  },
  {
   "cell_type": "code",
   "execution_count": 74,
   "id": "5bac39c8",
   "metadata": {},
   "outputs": [],
   "source": [
    "# Model Selection & Evaluation\n",
    "from sklearn.model_selection import GridSearchCV, RandomizedSearchCV\n",
    "from sklearn.metrics import mean_squared_error, r2_score\n",
    "\n",
    "# Linear Models\n",
    "from sklearn.linear_model import (\n",
    "    LinearRegression,\n",
    "    Ridge,\n",
    "    Lasso,\n",
    "    ElasticNet,\n",
    ")\n",
    "\n",
    "# Tree-Based Model\n",
    "from sklearn.tree import DecisionTreeRegressor\n",
    "\n",
    "# Bagging & Ensemble Models\n",
    "from sklearn.ensemble import (\n",
    "    BaggingRegressor,\n",
    "    RandomForestRegressor,\n",
    "    ExtraTreesRegressor,\n",
    "    GradientBoostingRegressor,\n",
    "    AdaBoostRegressor\n",
    ")\n",
    "\n",
    "# Boosting Libraries\n",
    "from xgboost import XGBRegressor\n",
    "from lightgbm import LGBMRegressor\n",
    "from catboost import CatBoostRegressor\n"
   ]
  },
  {
   "cell_type": "markdown",
   "id": "4528e2f9",
   "metadata": {},
   "source": [
    "**Model Configurations**"
   ]
  },
  {
   "cell_type": "code",
   "execution_count": 75,
   "id": "7d2f15c6",
   "metadata": {},
   "outputs": [],
   "source": [
    "models_and_params = {\n",
    "    \"LinearRegression\": {\n",
    "        \"model\": LinearRegression(),\n",
    "        \"params\": {}\n",
    "    },\n",
    "    \"Ridge\": {\n",
    "        \"model\": Ridge(),\n",
    "        \"params\": {\"alpha\": [0.1, 1.0, 10.0, 100.0]}\n",
    "    },\n",
    "    \"Lasso\": {\n",
    "        \"model\": Lasso(max_iter=10000),\n",
    "        \"params\": {\"alpha\": [0.0001, 0.001, 0.01, 0.1, 1.0]}\n",
    "    },\n",
    "    \"ElasticNet\": {\n",
    "        \"model\": ElasticNet(max_iter=10000),\n",
    "        \"params\": {\n",
    "            \"alpha\": [0.001, 0.01, 0.1],\n",
    "            \"l1_ratio\": [0.1, 0.5, 0.9]\n",
    "        }\n",
    "    },\n",
    "    \"DecisionTree\": {\n",
    "        \"model\": DecisionTreeRegressor(random_state=42),\n",
    "        \"params\": {\n",
    "            \"max_depth\": [5, 10, 20, None],\n",
    "            \"min_samples_split\": [2, 5, 10]\n",
    "        }\n",
    "    },\n",
    "    \"RandomForest\": {\n",
    "        \"model\": RandomForestRegressor(random_state=42, n_jobs=-1),\n",
    "        \"params\": {\n",
    "            \"n_estimators\": [100, 200],\n",
    "            \"max_depth\": [10, 20, None],\n",
    "            \"min_samples_split\": [2, 5]\n",
    "        }\n",
    "    },\n",
    "    \"ExtraTrees\": {\n",
    "        \"model\": ExtraTreesRegressor(random_state=42, n_jobs=-1),\n",
    "        \"params\": {\n",
    "            \"n_estimators\": [100, 200],\n",
    "            \"max_depth\": [10, 20, None],\n",
    "            \"min_samples_split\": [2, 5]\n",
    "        }\n",
    "    },\n",
    "    \"Bagging\": {\n",
    "        \"model\": BaggingRegressor(random_state=42, n_jobs=-1),\n",
    "        \"params\": {\n",
    "            \"n_estimators\": [10, 50, 100],\n",
    "            \"max_samples\": [0.5, 0.8, 1.0]\n",
    "        }\n",
    "    },\n",
    "    \"GradientBoosting\": {\n",
    "        \"model\": GradientBoostingRegressor(random_state=42),\n",
    "        \"params\": {\n",
    "            \"n_estimators\": [100, 200],\n",
    "            \"learning_rate\": [0.01, 0.05, 0.1],\n",
    "            \"max_depth\": [3, 5]\n",
    "        }\n",
    "    },\n",
    "    \"AdaBoost\": {\n",
    "        \"model\": AdaBoostRegressor(random_state=42),\n",
    "        \"params\": {\n",
    "            \"n_estimators\": [50, 100],\n",
    "            \"learning_rate\": [0.01, 0.05, 0.1]\n",
    "        }\n",
    "    },\n",
    "    \"XGBoost\": {\n",
    "        \"model\": XGBRegressor(random_state=42, verbosity=0, n_jobs=-1),\n",
    "        \"params\": {\n",
    "            \"n_estimators\": [100, 200],\n",
    "            \"learning_rate\": [0.01, 0.05, 0.1],\n",
    "            \"max_depth\": [3, 5, 7]\n",
    "        }\n",
    "    },\n",
    "    \"LightGBM\": {\n",
    "        \"model\": LGBMRegressor(random_state=42),\n",
    "        \"params\": {\n",
    "            \"n_estimators\": [100, 200],\n",
    "            \"learning_rate\": [0.01, 0.05, 0.1],\n",
    "            \"max_depth\": [-1, 5, 10]\n",
    "        }\n",
    "    },\n",
    "    \"CatBoost\": {\n",
    "        \"model\": CatBoostRegressor(verbose=0, random_state=42),\n",
    "        \"params\": {\n",
    "            \"iterations\": [100, 200],\n",
    "            \"learning_rate\": [0.01, 0.05, 0.1],\n",
    "            \"depth\": [3, 5, 7]\n",
    "        }\n",
    "    }\n",
    "}\n"
   ]
  },
  {
   "cell_type": "markdown",
   "id": "71a4126d",
   "metadata": {},
   "source": [
    "**Grid Search for Each Model**"
   ]
  },
  {
   "cell_type": "code",
   "execution_count": 76,
   "id": "74fb3302",
   "metadata": {},
   "outputs": [
    {
     "name": "stdout",
     "output_type": "stream",
     "text": [
      "Training: LinearRegression\n",
      "Training: Ridge\n",
      "Training: Lasso\n",
      "Training: ElasticNet\n",
      "Training: DecisionTree\n",
      "Training: RandomForest\n",
      "Training: ExtraTrees\n",
      "Training: Bagging\n",
      "Training: GradientBoosting\n",
      "Training: AdaBoost\n",
      "Training: XGBoost\n",
      "Training: LightGBM\n",
      "[LightGBM] [Info] Auto-choosing col-wise multi-threading, the overhead of testing was 0.000116 seconds.\n",
      "You can set `force_col_wise=true` to remove the overhead.\n",
      "[LightGBM] [Info] Total Bins 461\n",
      "[LightGBM] [Info] Number of data points in the train set: 8304, number of used features: 101\n",
      "[LightGBM] [Info] Start training from score 70.102764\n",
      "Training: CatBoost\n"
     ]
    },
    {
     "name": "stderr",
     "output_type": "stream",
     "text": [
      "c:\\Users\\rohit\\Downloads\\bangalore_house_prices\\env\\Lib\\site-packages\\sklearn\\utils\\validation.py:2749: UserWarning: X does not have valid feature names, but LGBMRegressor was fitted with feature names\n",
      "  warnings.warn(\n"
     ]
    },
    {
     "name": "stdout",
     "output_type": "stream",
     "text": [
      "               Model        R²       RMSE\n",
      "12          CatBoost  0.665270  19.578231\n",
      "10           XGBoost  0.661260  19.695153\n",
      "5       RandomForest  0.640939  20.277312\n",
      "11          LightGBM  0.634591  20.455777\n",
      "7            Bagging  0.631021  20.555451\n",
      "6         ExtraTrees  0.620667  20.841854\n",
      "8   GradientBoosting  0.617832  20.919588\n",
      "1              Ridge  0.598304  21.447422\n",
      "0   LinearRegression  0.598216  21.449756\n",
      "4       DecisionTree  0.553304  22.616854\n",
      "2              Lasso  0.493033  24.094393\n",
      "3         ElasticNet  0.461439  24.833835\n",
      "9           AdaBoost  0.429198  25.566370\n"
     ]
    }
   ],
   "source": [
    "from sklearn.metrics import r2_score, mean_squared_error\n",
    "import numpy as np\n",
    "import pandas as pd\n",
    "\n",
    "# Track results\n",
    "stage1_results = []\n",
    "\n",
    "# Loop through models\n",
    "for name, mp in models_and_params.items():\n",
    "    print(f\"Training: {name}\")\n",
    "    model = mp[\"model\"]\n",
    "    model.fit(X_train, y_train)\n",
    "    \n",
    "    y_pred = model.predict(X_test)\n",
    "    r2 = r2_score(y_test, y_pred)\n",
    "    rmse = np.sqrt(mean_squared_error(y_test, y_pred))\n",
    "    \n",
    "    stage1_results.append({\n",
    "        \"Model\": name,\n",
    "        \"R²\": r2,\n",
    "        \"RMSE\": rmse,\n",
    "        \"Model Object\": model\n",
    "    })\n",
    "\n",
    "# Convert to DataFrame and pick top 3–4\n",
    "model_stat = pd.DataFrame(stage1_results).sort_values(by=\"R²\", ascending=False)\n",
    "print(model_stat[[\"Model\", \"R²\", \"RMSE\"]])"
   ]
  },
  {
   "cell_type": "markdown",
   "id": "a15189f7",
   "metadata": {},
   "source": [
    "**Evaluation Function**"
   ]
  },
  {
   "cell_type": "code",
   "execution_count": 77,
   "id": "d6f1f214",
   "metadata": {},
   "outputs": [],
   "source": [
    "def evaluate(model, X_test, y_test):\n",
    "    y_pred = model.predict(X_test)\n",
    "    rmse = np.sqrt(mean_squared_error(y_test, y_pred)) \n",
    "    r2 = r2_score(y_test, y_pred)\n",
    "    return rmse, r2\n"
   ]
  },
  {
   "cell_type": "markdown",
   "id": "1db6d4df",
   "metadata": {},
   "source": [
    "**Comparing All Models on Test Set**"
   ]
  },
  {
   "cell_type": "code",
   "execution_count": 78,
   "id": "c6012a5d",
   "metadata": {},
   "outputs": [
    {
     "name": "stdout",
     "output_type": "stream",
     "text": [
      "               Model  Train R²  Train RMSE  Test RMSE   Test R²\n",
      "0           CatBoost  0.665270   19.578231  19.578231  0.665270\n",
      "1            XGBoost  0.661260   19.695153  19.695153  0.661260\n",
      "2       RandomForest  0.640939   20.277312  20.277312  0.640939\n",
      "3           LightGBM  0.634591   20.455777  20.455777  0.634591\n",
      "4            Bagging  0.631021   20.555451  20.555451  0.631021\n",
      "5         ExtraTrees  0.620667   20.841854  20.841854  0.620667\n",
      "6   GradientBoosting  0.617832   20.919588  20.919588  0.617832\n",
      "7              Ridge  0.598304   21.447422  21.447422  0.598304\n",
      "8   LinearRegression  0.598216   21.449756  21.449756  0.598216\n",
      "9       DecisionTree  0.553304   22.616854  22.616854  0.553304\n",
      "10             Lasso  0.493033   24.094393  24.094393  0.493033\n",
      "11        ElasticNet  0.461439   24.833835  24.833835  0.461439\n",
      "12          AdaBoost  0.429198   25.566370  25.566370  0.429198\n"
     ]
    },
    {
     "name": "stderr",
     "output_type": "stream",
     "text": [
      "c:\\Users\\rohit\\Downloads\\bangalore_house_prices\\env\\Lib\\site-packages\\sklearn\\utils\\validation.py:2749: UserWarning: X does not have valid feature names, but LGBMRegressor was fitted with feature names\n",
      "  warnings.warn(\n"
     ]
    }
   ],
   "source": [
    "comparison = []\n",
    "\n",
    "for _, row in model_stat.iterrows():\n",
    "    name = row[\"Model\"]\n",
    "    model = row[\"Model Object\"]\n",
    "    \n",
    "    rmse, r2 = evaluate(model, X_test, y_test)\n",
    "    \n",
    "    comparison.append({\n",
    "        \"Model\": name,\n",
    "        \"Train R²\": row[\"R²\"],\n",
    "        \"Train RMSE\": row[\"RMSE\"],\n",
    "        \"Test RMSE\": rmse,\n",
    "        \"Test R²\": r2\n",
    "    })\n",
    "\n",
    "# Show results\n",
    "results_df = pd.DataFrame(comparison).sort_values(by=\"Test RMSE\").reset_index(drop=True)\n",
    "print(results_df)"
   ]
  },
  {
   "cell_type": "markdown",
   "id": "0612e24e",
   "metadata": {},
   "source": [
    "**Saving comparison result as csv**"
   ]
  },
  {
   "cell_type": "code",
   "execution_count": 79,
   "id": "2ee8586d",
   "metadata": {},
   "outputs": [
    {
     "name": "stdout",
     "output_type": "stream",
     "text": [
      "✅ Comparison results saved to 'model_comparison_results.csv'\n"
     ]
    }
   ],
   "source": [
    "results_df.to_csv(\"../reports/model_comparison_results.csv\", index=False)\n",
    "print(\"✅ Comparison results saved to 'model_comparison_results.csv'\")\n"
   ]
  },
  {
   "cell_type": "markdown",
   "id": "604471f4",
   "metadata": {},
   "source": [
    "**Finding Best Hyper Parameters for Top 2 Models( CatBoost and XGBoost**"
   ]
  },
  {
   "cell_type": "code",
   "execution_count": 80,
   "id": "d46f0c67",
   "metadata": {},
   "outputs": [
    {
     "name": "stdout",
     "output_type": "stream",
     "text": [
      "\n",
      "🔍 Tuning CatBoost...\n",
      "Fitting 5 folds for each of 20 candidates, totalling 100 fits\n",
      "\n",
      "🔍 Tuning XGBoost...\n",
      "Fitting 5 folds for each of 20 candidates, totalling 100 fits\n",
      "\n",
      "✅ CatBoost Best Params: {'learning_rate': 0.1, 'l2_leaf_reg': 3, 'iterations': 300, 'depth': 6}\n",
      "CV RMSE: 19.6104\n",
      "\n",
      "✅ XGBoost Best Params: {'subsample': 0.8, 'n_estimators': 300, 'max_depth': 5, 'learning_rate': 0.1, 'colsample_bytree': 0.8}\n",
      "CV RMSE: 19.3226\n"
     ]
    }
   ],
   "source": [
    "from sklearn.model_selection import RandomizedSearchCV\n",
    "from xgboost import XGBRegressor\n",
    "from catboost import CatBoostRegressor\n",
    "\n",
    "# Define parameter grids\n",
    "param_grids = {\n",
    "    \"CatBoost\": {\n",
    "        \"model\": CatBoostRegressor(verbose=0, random_state=42),\n",
    "        \"params\": {\n",
    "            \"iterations\": [100, 200, 300],\n",
    "            \"learning_rate\": [0.01, 0.05, 0.1],\n",
    "            \"depth\": [4, 6, 8, 10],\n",
    "            \"l2_leaf_reg\": [1, 3, 5, 7]\n",
    "        }\n",
    "    },\n",
    "    \"XGBoost\": {\n",
    "        \"model\": XGBRegressor(verbosity=0, random_state=42),\n",
    "        \"params\": {\n",
    "            \"n_estimators\": [100, 200, 300],\n",
    "            \"learning_rate\": [0.01, 0.05, 0.1],\n",
    "            \"max_depth\": [3, 5, 7, 10],\n",
    "            \"subsample\": [0.6, 0.8, 1.0],\n",
    "            \"colsample_bytree\": [0.6, 0.8, 1.0]\n",
    "        }\n",
    "    }\n",
    "}\n",
    "\n",
    "# Run RandomizedSearchCV for both models\n",
    "best_tuned_models = {}\n",
    "\n",
    "for name, cfg in param_grids.items():\n",
    "    print(f\"\\n🔍 Tuning {name}...\")\n",
    "    search = RandomizedSearchCV(\n",
    "        cfg[\"model\"],\n",
    "        cfg[\"params\"],\n",
    "        n_iter=20,\n",
    "        scoring='neg_root_mean_squared_error',\n",
    "        cv=5,\n",
    "        n_jobs=-1,\n",
    "        verbose=1,\n",
    "        random_state=42\n",
    "    )\n",
    "    search.fit(X_train, y_train)\n",
    "\n",
    "    best_tuned_models[name] = {\n",
    "        \"best_estimator\": search.best_estimator_,\n",
    "        \"best_params\": search.best_params_,\n",
    "        \"cv_rmse\": -search.best_score_\n",
    "    }\n",
    "\n",
    "# Show results\n",
    "for name, res in best_tuned_models.items():\n",
    "    print(f\"\\n✅ {name} Best Params: {res['best_params']}\")\n",
    "    print(f\"CV RMSE: {res['cv_rmse']:.4f}\")\n"
   ]
  },
  {
   "cell_type": "code",
   "execution_count": 81,
   "id": "063d8008",
   "metadata": {},
   "outputs": [
    {
     "name": "stdout",
     "output_type": "stream",
     "text": [
      "      Model  CV RMSE (Train)  Test RMSE   Test R²\n",
      "1   XGBoost        19.322628  19.546646  0.666349\n",
      "0  CatBoost        19.610411  19.995547  0.650848\n",
      " Final comparison saved to 'final_model_comparison.csv'\n"
     ]
    }
   ],
   "source": [
    "from sklearn.metrics import mean_squared_error, r2_score\n",
    "import numpy as np\n",
    "import pandas as pd\n",
    "\n",
    "def evaluate(model, X_test, y_test):\n",
    "    y_pred = model.predict(X_test)\n",
    "    rmse = np.sqrt(mean_squared_error(y_test, y_pred))\n",
    "    r2 = r2_score(y_test, y_pred)\n",
    "    return rmse, r2\n",
    "\n",
    "# Compare tuned models\n",
    "comparison = []\n",
    "\n",
    "for name, result in best_tuned_models.items():\n",
    "    rmse, r2 = evaluate(result[\"best_estimator\"], X_test, y_test)\n",
    "    comparison.append({\n",
    "        \"Model\": name,\n",
    "        \"CV RMSE (Train)\": result[\"cv_rmse\"],\n",
    "        \"Test RMSE\": rmse,\n",
    "        \"Test R²\": r2\n",
    "    })\n",
    "\n",
    "# Create results DataFrame\n",
    "results_df = pd.DataFrame(comparison).sort_values(by=\"Test RMSE\")\n",
    "print(results_df)\n",
    "\n",
    "# Optional: Save results\n",
    "results_df.to_csv(\"../reports/final_model_comparison.csv\", index=False)\n",
    "print(\" Final comparison saved to 'final_model_comparison.csv'\")\n"
   ]
  },
  {
   "cell_type": "markdown",
   "id": "d56a6a29",
   "metadata": {},
   "source": [
    "both models are performing almost similar, going for XGBoost for better R-square"
   ]
  },
  {
   "cell_type": "markdown",
   "id": "1720f249",
   "metadata": {},
   "source": [
    "**Stacking XGBoost and CatBoost**"
   ]
  },
  {
   "cell_type": "code",
   "execution_count": 82,
   "id": "463f8f15",
   "metadata": {},
   "outputs": [
    {
     "name": "stdout",
     "output_type": "stream",
     "text": [
      "Stacked Model RMSE: 19.4704\n",
      "Stacked Model R²: 0.6689\n"
     ]
    }
   ],
   "source": [
    "from sklearn.ensemble import StackingRegressor\n",
    "xgb = XGBRegressor(\n",
    "    subsample=0.8,\n",
    "    n_estimators=300,\n",
    "    max_depth=5,\n",
    "    learning_rate=0.1,\n",
    "    colsample_bytree=0.8,\n",
    "    random_state=42,\n",
    "    verbosity=0\n",
    ")\n",
    "\n",
    "cat = CatBoostRegressor(\n",
    "    learning_rate=0.1,\n",
    "    l2_leaf_reg=3,\n",
    "    iterations=300,\n",
    "    depth=6,\n",
    "    random_state=42,\n",
    "    verbose=0\n",
    ")\n",
    "\n",
    "# Create stacking model\n",
    "stack_model = StackingRegressor(\n",
    "    estimators=[('xgb', xgb), ('cat', cat)],\n",
    "    final_estimator=Ridge(alpha=1.0),\n",
    "    n_jobs=-1,\n",
    "    passthrough=True  # optional: pass original features along with base predictions\n",
    ")\n",
    "\n",
    "# Fit on full dataset\n",
    "stack_model.fit(X_train, y_train)\n",
    "\n",
    "# Evaluate on test set\n",
    "y_pred_stack = stack_model.predict(X_test)\n",
    "rmse_stack = np.sqrt(mean_squared_error(y_test, y_pred_stack))\n",
    "r2_stack = r2_score(y_test, y_pred_stack)\n",
    "\n",
    "print(f\"Stacked Model RMSE: {rmse_stack:.4f}\")\n",
    "print(f\"Stacked Model R²: {r2_stack:.4f}\")"
   ]
  },
  {
   "cell_type": "markdown",
   "id": "bef482ca",
   "metadata": {},
   "source": [
    "stacking slightly enhanced performance, finalizing it"
   ]
  },
  {
   "cell_type": "markdown",
   "id": "a45dede4",
   "metadata": {},
   "source": [
    "**Final training on full dataset**"
   ]
  },
  {
   "cell_type": "code",
   "execution_count": 86,
   "id": "f1e74d54",
   "metadata": {},
   "outputs": [
    {
     "name": "stdout",
     "output_type": "stream",
     "text": [
      "Stacked Model RMSE: 17.4065\n",
      "Stacked Model R²: 0.7243\n"
     ]
    }
   ],
   "source": [
    "from scipy.sparse import vstack\n",
    "\n",
    "# Combine train and test for final training\n",
    "X_full = vstack([X_train, X_test])\n",
    "y_full = pd.concat([y_train, y_test], axis=0)\n",
    "\n",
    "from sklearn.ensemble import StackingRegressor\n",
    "xgb = XGBRegressor(\n",
    "    subsample=0.8,\n",
    "    n_estimators=300,\n",
    "    max_depth=5,\n",
    "    learning_rate=0.1,\n",
    "    colsample_bytree=0.8,\n",
    "    random_state=42,\n",
    "    verbosity=0\n",
    ")\n",
    "\n",
    "cat = CatBoostRegressor(\n",
    "    learning_rate=0.1,\n",
    "    l2_leaf_reg=3,\n",
    "    iterations=300,\n",
    "    depth=6,\n",
    "    random_state=42,\n",
    "    verbose=0\n",
    ")\n",
    "\n",
    "# Create stacking model\n",
    "stack_model = StackingRegressor(\n",
    "    estimators=[('xgb', xgb), ('cat', cat)],\n",
    "    final_estimator=Ridge(alpha=1.0),\n",
    "    n_jobs=-1,\n",
    "    passthrough=True  # optional: pass original features along with base predictions\n",
    ")\n",
    "\n",
    "# Fit on full dataset\n",
    "stack_model.fit(X_full, y_full)\n",
    "\n",
    "# Evaluate on test set\n",
    "y_pred_stack = stack_model.predict(X_full)\n",
    "rmse_stack = np.sqrt(mean_squared_error(y_full, y_pred_stack))\n",
    "r2_stack = r2_score(y_full, y_pred_stack)\n",
    "\n",
    "print(f\"Stacked Model RMSE: {rmse_stack:.4f}\")\n",
    "print(f\"Stacked Model R²: {r2_stack:.4f}\")"
   ]
  },
  {
   "cell_type": "markdown",
   "id": "1f6355c5",
   "metadata": {},
   "source": [
    "**Saving Model, Preprocessor and Model Metadata**"
   ]
  },
  {
   "cell_type": "code",
   "execution_count": 92,
   "id": "4088d729",
   "metadata": {},
   "outputs": [
    {
     "name": "stdout",
     "output_type": "stream",
     "text": [
      "✅ Stacked model, preprocessor, and metadata saved.\n"
     ]
    }
   ],
   "source": [
    "import os\n",
    "import joblib\n",
    "import json\n",
    "\n",
    "# Ensure model_artifacts directory exists\n",
    "os.makedirs('../model_artifacts', exist_ok=True)\n",
    "\n",
    "# Save the stacked model and preprocessor\n",
    "joblib.dump(stack_model, '../model_artifacts/best_model.pkl')\n",
    "joblib.dump(preprocessor, '../model_artifacts/preprocessor.pkl')\n",
    "\n",
    "# Utility to convert params to JSON-serializable format\n",
    "def make_json_serializable(d):\n",
    "    serializable = {}\n",
    "    for k, v in d.items():\n",
    "        if isinstance(v, (str, int, float, bool, type(None))):\n",
    "            serializable[k] = v\n",
    "        elif isinstance(v, (list, tuple, set)):\n",
    "            serializable[k] = [make_json_serializable({\"item\": i})[\"item\"] for i in v]\n",
    "        elif isinstance(v, dict):\n",
    "            serializable[k] = make_json_serializable(v)\n",
    "        else:\n",
    "            serializable[k] = str(v)  # fallback for objects\n",
    "    return serializable\n",
    "\n",
    "# Save model metadata\n",
    "metadata = {\n",
    "    'model_name': 'StackedRegressor (XGBoost + CatBoost)',\n",
    "    'hyperparameters': make_json_serializable(stack_model.get_params()),\n",
    "    'features': preprocessor.get_feature_names_out().tolist(),\n",
    "    'test_rmse': 19.4704,\n",
    "    'test_r2': 0.6689\n",
    "}\n",
    "\n",
    "with open('../model_artifacts/model_metadata.json', 'w') as f:\n",
    "    json.dump(metadata, f, indent=2)\n",
    "\n",
    "print(\"✅ Stacked model, preprocessor, and metadata saved.\")\n"
   ]
  },
  {
   "cell_type": "markdown",
   "id": "0d850e17",
   "metadata": {},
   "source": [
    "**Loading and Verifying Model Artifacts**"
   ]
  },
  {
   "cell_type": "code",
   "execution_count": 93,
   "id": "966f61f9",
   "metadata": {},
   "outputs": [
    {
     "name": "stdout",
     "output_type": "stream",
     "text": [
      "Model loaded successfully!\n",
      "Model metadata: {'model_name': 'StackedRegressor (XGBoost + CatBoost)', 'hyperparameters': {'cv': None, 'estimators': [['xgb', 'XGBRegressor(base_score=None, booster=None, callbacks=None,\\n             colsample_bylevel=None, colsample_bynode=None,\\n             colsample_bytree=0.8, device=None, early_stopping_rounds=None,\\n             enable_categorical=False, eval_metric=None, feature_types=None,\\n             feature_weights=None, gamma=None, grow_policy=None,\\n             importance_type=None, interaction_constraints=None,\\n             learning_rate=0.1, max_bin=None, max_cat_threshold=None,\\n             max_cat_to_onehot=None, max_delta_step=None, max_depth=5,\\n             max_leaves=None, min_child_weight=None, missing=nan,\\n             monotone_constraints=None, multi_strategy=None, n_estimators=300,\\n             n_jobs=None, num_parallel_tree=None, ...)'], ['cat', '<catboost.core.CatBoostRegressor object at 0x000001BA05B08680>']], 'final_estimator__alpha': 1.0, 'final_estimator__copy_X': True, 'final_estimator__fit_intercept': True, 'final_estimator__max_iter': None, 'final_estimator__positive': False, 'final_estimator__random_state': None, 'final_estimator__solver': 'auto', 'final_estimator__tol': 0.0001, 'final_estimator': 'Ridge()', 'n_jobs': -1, 'passthrough': True, 'verbose': 0, 'xgb': 'XGBRegressor(base_score=None, booster=None, callbacks=None,\\n             colsample_bylevel=None, colsample_bynode=None,\\n             colsample_bytree=0.8, device=None, early_stopping_rounds=None,\\n             enable_categorical=False, eval_metric=None, feature_types=None,\\n             feature_weights=None, gamma=None, grow_policy=None,\\n             importance_type=None, interaction_constraints=None,\\n             learning_rate=0.1, max_bin=None, max_cat_threshold=None,\\n             max_cat_to_onehot=None, max_delta_step=None, max_depth=5,\\n             max_leaves=None, min_child_weight=None, missing=nan,\\n             monotone_constraints=None, multi_strategy=None, n_estimators=300,\\n             n_jobs=None, num_parallel_tree=None, ...)', 'cat': '<catboost.core.CatBoostRegressor object at 0x000001BA05B08680>', 'xgb__objective': 'reg:squarederror', 'xgb__base_score': None, 'xgb__booster': None, 'xgb__callbacks': None, 'xgb__colsample_bylevel': None, 'xgb__colsample_bynode': None, 'xgb__colsample_bytree': 0.8, 'xgb__device': None, 'xgb__early_stopping_rounds': None, 'xgb__enable_categorical': False, 'xgb__eval_metric': None, 'xgb__feature_types': None, 'xgb__feature_weights': None, 'xgb__gamma': None, 'xgb__grow_policy': None, 'xgb__importance_type': None, 'xgb__interaction_constraints': None, 'xgb__learning_rate': 0.1, 'xgb__max_bin': None, 'xgb__max_cat_threshold': None, 'xgb__max_cat_to_onehot': None, 'xgb__max_delta_step': None, 'xgb__max_depth': 5, 'xgb__max_leaves': None, 'xgb__min_child_weight': None, 'xgb__missing': nan, 'xgb__monotone_constraints': None, 'xgb__multi_strategy': None, 'xgb__n_estimators': 300, 'xgb__n_jobs': None, 'xgb__num_parallel_tree': None, 'xgb__random_state': 42, 'xgb__reg_alpha': None, 'xgb__reg_lambda': None, 'xgb__sampling_method': None, 'xgb__scale_pos_weight': None, 'xgb__subsample': 0.8, 'xgb__tree_method': None, 'xgb__validate_parameters': None, 'xgb__verbosity': 0, 'cat__iterations': 300, 'cat__learning_rate': 0.1, 'cat__depth': 6, 'cat__l2_leaf_reg': 3, 'cat__loss_function': 'RMSE', 'cat__verbose': 0, 'cat__random_state': 42}, 'features': ['num__total_sqft', 'num__bath', 'num__bhk', 'cat__location_1st Block Jayanagar', 'cat__location_1st Phase JP Nagar', 'cat__location_2nd Phase Judicial Layout', 'cat__location_5th Block Hbr Layout', 'cat__location_5th Phase JP Nagar', 'cat__location_6th Phase JP Nagar', 'cat__location_7th Phase JP Nagar', 'cat__location_8th Phase JP Nagar', 'cat__location_9th Phase JP Nagar', 'cat__location_AECS Layout', 'cat__location_Abbigere', 'cat__location_Akshaya Nagar', 'cat__location_Ambalipura', 'cat__location_Ambedkar Nagar', 'cat__location_Amruthahalli', 'cat__location_Anandapura', 'cat__location_Ananth Nagar', 'cat__location_Anekal', 'cat__location_Anjanapura', 'cat__location_Ardendale', 'cat__location_Arekere', 'cat__location_Attibele', 'cat__location_BEML Layout', 'cat__location_BTM 2nd Stage', 'cat__location_BTM Layout', 'cat__location_Babusapalaya', 'cat__location_Badavala Nagar', 'cat__location_Balagere', 'cat__location_Banashankari', 'cat__location_Banashankari Stage II', 'cat__location_Banashankari Stage III', 'cat__location_Banashankari Stage V', 'cat__location_Banashankari Stage VI', 'cat__location_Banaswadi', 'cat__location_Banjara Layout', 'cat__location_Bannerghatta', 'cat__location_Bannerghatta Road', 'cat__location_Basavangudi', 'cat__location_Basaveshwara Nagar', 'cat__location_Battarahalli', 'cat__location_Begur', 'cat__location_Begur Road', 'cat__location_Bellandur', 'cat__location_Benson Town', 'cat__location_Bharathi Nagar', 'cat__location_Bhoganhalli', 'cat__location_Billekahalli', 'cat__location_Binny Pete', 'cat__location_Bisuvanahalli', 'cat__location_Bommanahalli', 'cat__location_Bommasandra', 'cat__location_Bommasandra Industrial Area', 'cat__location_Bommenahalli', 'cat__location_Brookefield', 'cat__location_Budigere', 'cat__location_CV Raman Nagar', 'cat__location_Chamrajpet', 'cat__location_Chandapura', 'cat__location_Channasandra', 'cat__location_Chikka Tirupathi', 'cat__location_Chikkabanavar', 'cat__location_Chikkalasandra', 'cat__location_Choodasandra', 'cat__location_Cooke Town', 'cat__location_Cox Town', 'cat__location_Dasanapura', 'cat__location_Dasarahalli', 'cat__location_Devanahalli', 'cat__location_Devarachikkanahalli', 'cat__location_Dodda Nekkundi', 'cat__location_Doddaballapur', 'cat__location_Doddakallasandra', 'cat__location_Doddathoguru', 'cat__location_Domlur', 'cat__location_Dommasandra', 'cat__location_EPIP Zone', 'cat__location_Electronic City', 'cat__location_Electronic City Phase II', 'cat__location_Electronics City Phase 1', 'cat__location_Frazer Town', 'cat__location_GM Palaya', 'cat__location_Garudachar Palya', 'cat__location_Giri Nagar', 'cat__location_Gollarapalya Hosahalli', 'cat__location_Gottigere', 'cat__location_Green Glen Layout', 'cat__location_Gubbalala', 'cat__location_Gunjur', 'cat__location_HAL 2nd Stage', 'cat__location_HBR Layout', 'cat__location_HRBR Layout', 'cat__location_HSR Layout', 'cat__location_Haralur Road', 'cat__location_Harlur', 'cat__location_Hebbal', 'cat__location_Hebbal Kempapura', 'cat__location_Hegde Nagar', 'cat__location_Hennur', 'cat__location_Hennur Road', 'cat__location_Hoodi', 'cat__location_Horamavu Agara', 'cat__location_Horamavu Banaswadi', 'cat__location_Hormavu', 'cat__location_Hosa Road', 'cat__location_Hosakerehalli', 'cat__location_Hoskote', 'cat__location_Hosur Road', 'cat__location_Hulimavu', 'cat__location_ISRO Layout', 'cat__location_ITPL', 'cat__location_Iblur Village', 'cat__location_Indira Nagar', 'cat__location_JP Nagar', 'cat__location_Jakkur', 'cat__location_Jalahalli', 'cat__location_Jalahalli East', 'cat__location_Jigani', 'cat__location_Judicial Layout', 'cat__location_KR Puram', 'cat__location_Kadubeesanahalli', 'cat__location_Kadugodi', 'cat__location_Kaggadasapura', 'cat__location_Kaggalipura', 'cat__location_Kaikondrahalli', 'cat__location_Kalena Agrahara', 'cat__location_Kalyan nagar', 'cat__location_Kambipura', 'cat__location_Kammanahalli', 'cat__location_Kammasandra', 'cat__location_Kanakapura', 'cat__location_Kanakpura Road', 'cat__location_Kannamangala', 'cat__location_Karuna Nagar', 'cat__location_Kasavanhalli', 'cat__location_Kasturi Nagar', 'cat__location_Kathriguppe', 'cat__location_Kaval Byrasandra', 'cat__location_Kenchenahalli', 'cat__location_Kengeri', 'cat__location_Kengeri Satellite Town', 'cat__location_Kereguddadahalli', 'cat__location_Kodichikkanahalli', 'cat__location_Kodigehaali', 'cat__location_Kodigehalli', 'cat__location_Kodihalli', 'cat__location_Kogilu', 'cat__location_Konanakunte', 'cat__location_Koramangala', 'cat__location_Kothannur', 'cat__location_Kothanur', 'cat__location_Kudlu', 'cat__location_Kudlu Gate', 'cat__location_Kumaraswami Layout', 'cat__location_Kundalahalli', 'cat__location_LB Shastri Nagar', 'cat__location_Laggere', 'cat__location_Lakshminarayana Pura', 'cat__location_Lingadheeranahalli', 'cat__location_Magadi Road', 'cat__location_Mahadevpura', 'cat__location_Mahalakshmi Layout', 'cat__location_Mallasandra', 'cat__location_Malleshpalya', 'cat__location_Malleshwaram', 'cat__location_Marathahalli', 'cat__location_Margondanahalli', 'cat__location_Marsur', 'cat__location_Mico Layout', 'cat__location_Munnekollal', 'cat__location_Murugeshpalya', 'cat__location_Mysore Road', 'cat__location_NGR Layout', 'cat__location_NRI Layout', 'cat__location_Nagarbhavi', 'cat__location_Nagasandra', 'cat__location_Nagavara', 'cat__location_Nagavarapalya', 'cat__location_Narayanapura', 'cat__location_Neeladri Nagar', 'cat__location_Nehru Nagar', 'cat__location_OMBR Layout', 'cat__location_Old Airport Road', 'cat__location_Old Madras Road', 'cat__location_Padmanabhanagar', 'cat__location_Pai Layout', 'cat__location_Panathur', 'cat__location_Parappana Agrahara', 'cat__location_Pattandur Agrahara', 'cat__location_Poorna Pragna Layout', 'cat__location_Prithvi Layout', 'cat__location_R.T. Nagar', 'cat__location_Rachenahalli', 'cat__location_Raja Rajeshwari Nagar', 'cat__location_Rajaji Nagar', 'cat__location_Rajiv Nagar', 'cat__location_Ramagondanahalli', 'cat__location_Ramamurthy Nagar', 'cat__location_Rayasandra', 'cat__location_Sahakara Nagar', 'cat__location_Sanjay nagar', 'cat__location_Sarakki Nagar', 'cat__location_Sarjapur', 'cat__location_Sarjapur  Road', 'cat__location_Sarjapura - Attibele Road', 'cat__location_Sector 2 HSR Layout', 'cat__location_Sector 7 HSR Layout', 'cat__location_Seegehalli', 'cat__location_Shampura', 'cat__location_Shivaji Nagar', 'cat__location_Singasandra', 'cat__location_Somasundara Palya', 'cat__location_Sompura', 'cat__location_Sonnenahalli', 'cat__location_Subramanyapura', 'cat__location_Sultan Palaya', 'cat__location_TC Palaya', 'cat__location_Talaghattapura', 'cat__location_Thanisandra', 'cat__location_Thigalarapalya', 'cat__location_Thubarahalli', 'cat__location_Thyagaraja Nagar', 'cat__location_Tindlu', 'cat__location_Tumkur Road', 'cat__location_Ulsoor', 'cat__location_Uttarahalli', 'cat__location_Varthur', 'cat__location_Varthur Road', 'cat__location_Vasanthapura', 'cat__location_Vidyaranyapura', 'cat__location_Vijayanagar', 'cat__location_Vishveshwarya Layout', 'cat__location_Vishwapriya Layout', 'cat__location_Vittasandra', 'cat__location_Whitefield', 'cat__location_Yelachenahalli', 'cat__location_Yelahanka', 'cat__location_Yelahanka New Town', 'cat__location_Yelenahalli', 'cat__location_Yeshwanthpur', 'cat__location_other'], 'test_rmse': 19.4704, 'test_r2': 0.6689}\n"
     ]
    }
   ],
   "source": [
    "# Load model and preprocessor\n",
    "model = joblib.load('../model_artifacts/best_model.pkl')\n",
    "preprocessor = joblib.load('../model_artifacts/preprocessor.pkl')\n",
    "\n",
    "# Load metadata\n",
    "with open('../model_artifacts/model_metadata.json', 'r') as f:\n",
    "    metadata = json.load(f)\n",
    "\n",
    "print(\"Model loaded successfully!\")\n",
    "print(\"Model metadata:\", metadata)"
   ]
  },
  {
   "cell_type": "markdown",
   "id": "650418df",
   "metadata": {},
   "source": [
    "**Residuals Analysis**"
   ]
  },
  {
   "cell_type": "code",
   "execution_count": 102,
   "id": "e4ab1a3b",
   "metadata": {},
   "outputs": [
    {
     "data": {
      "image/png": "[encoded data removed]",
      "text/plain": [
       "<Figure size 640x480 with 1 Axes>"
      ]
     },
     "metadata": {},
     "output_type": "display_data"
    },
    {
     "name": "stdout",
     "output_type": "stream",
     "text": [
      "plot saved as 'residual_Analysis.png'\n"
     ]
    }
   ],
   "source": [
    "import seaborn as sns\n",
    "\n",
    "y_pred = stack_model.predict(X_test)\n",
    "residuals = y_test - y_pred\n",
    "\n",
    "sns.scatterplot(x=y_pred, y=residuals)\n",
    "plt.axhline(0, color='red', linestyle='--')\n",
    "plt.xlabel(\"Predicted Values\")\n",
    "plt.ylabel(\"Residuals\")\n",
    "plt.title(\"Residual Plot\")\n",
    "plt.show()\n",
    "\n",
    "# Save to file\n",
    "plt.savefig(\"../reports/residual_Analysis.png\", dpi=500)\n",
    "plt.close()\n",
    "\n",
    "print(\"plot saved as 'residual_Analysis.png'\")\n"
   ]
  },
  {
   "cell_type": "markdown",
   "id": "58053e8c",
   "metadata": {},
   "source": [
    "**Error Distribution**"
   ]
  },
  {
   "cell_type": "code",
   "execution_count": 103,
   "id": "d41b9cbd",
   "metadata": {},
   "outputs": [
    {
     "data": {
      "image/png": "[encoded data removed]",
      "text/plain": [
       "<Figure size 640x480 with 1 Axes>"
      ]
     },
     "metadata": {},
     "output_type": "display_data"
    },
    {
     "name": "stdout",
     "output_type": "stream",
     "text": [
      "plot saved as 'error_distribution.png'\n"
     ]
    }
   ],
   "source": [
    "sns.histplot(residuals, kde=True)\n",
    "plt.title(\"Distribution of Residuals\")\n",
    "plt.show()\n",
    "\n",
    "plt.savefig(\"../reports/error_distribution.png\", dpi=500)\n",
    "plt.close()\n",
    "\n",
    "print(\"plot saved as 'error_distribution.png'\")\n"
   ]
  }
 ],
 "metadata": {
  "kernelspec": {
   "display_name": "env",
   "language": "python",
   "name": "python3"
  },
  "language_info": {
   "codemirror_mode": {
    "name": "ipython",
    "version": 3
   },
   "file_extension": ".py",
   "mimetype": "text/x-python",
   "name": "python",
   "nbconvert_exporter": "python",
   "pygments_lexer": "ipython3",
   "version": "3.13.3"
  }
 },
 "nbformat": 4,
 "nbformat_minor": 5
}
